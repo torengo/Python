{
 "cells": [
  {
   "cell_type": "markdown",
   "id": "fd64b993-85a5-48c0-be1b-f7e4b6fa4478",
   "metadata": {},
   "source": [
    "#Automatic File Sorter in File Explorer"
   ]
  },
  {
   "cell_type": "code",
   "execution_count": 44,
   "id": "cc6bc377-2cb0-48eb-bdb9-1a173d765ae2",
   "metadata": {},
   "outputs": [],
   "source": [
    "import os, shutil"
   ]
  },
  {
   "cell_type": "code",
   "execution_count": 45,
   "id": "7633a44b-d55d-4aea-b626-66b040be6a1f",
   "metadata": {},
   "outputs": [],
   "source": [
    "path = r\"C:/Users/iTris/Documents/Data Analytics/Projects/\""
   ]
  },
  {
   "cell_type": "code",
   "execution_count": 46,
   "id": "2e5ba01e-b22e-4fb4-bf63-e19fef81146e",
   "metadata": {},
   "outputs": [
    {
     "data": {
      "text/plain": [
       "['xlsx files',\n",
       " 'jpg files',\n",
       " 'File Sorter Project',\n",
       " 'csv files',\n",
       " 'pdf files',\n",
       " 'excel files']"
      ]
     },
     "execution_count": 46,
     "metadata": {},
     "output_type": "execute_result"
    }
   ],
   "source": [
    "os.listdir(path)"
   ]
  },
  {
   "cell_type": "code",
   "execution_count": 47,
   "id": "5b1122d5-a599-411f-a4a1-269e589dc707",
   "metadata": {},
   "outputs": [],
   "source": [
    "file_name = os.listdir(path)"
   ]
  },
  {
   "cell_type": "code",
   "execution_count": 49,
   "id": "ab5ed2ee-27db-436d-8872-0a3f4f43a054",
   "metadata": {},
   "outputs": [],
   "source": [
    "folder_names = ['pdf files', 'jpg files', 'xlsx files']\n",
    "\n",
    "for loop in range(0,3):\n",
    "    if not os.path.exists(path + folder_names[loop]):\n",
    "        os.makedirs(path + folder_names[loop])\n",
    "        \n",
    "for file in file_name:\n",
    "    if \".pdf\" in file and not os.path.exists(path + \"pdf files/\" + file):\n",
    "        shutil.move(path + file, path + \"pdf files/\" + file)\n",
    "    elif \".jpg\" in file and not os.path.exists(path + \"jpg files/\" + file):\n",
    "        shutil.move(path + file, path + \"jpg files/\" + file)\n",
    "    elif \".xlsx\" in file and not os.path.exists(path + \"xlsx files/\" + file):\n",
    "        shutil.move(path + file, path + \"xlsx files/\" + file)"
   ]
  },
  {
   "cell_type": "code",
   "execution_count": null,
   "id": "75f547ff-cbdd-424c-9c16-e47fa3958eb5",
   "metadata": {},
   "outputs": [],
   "source": []
  }
 ],
 "metadata": {
  "kernelspec": {
   "display_name": "anaconda-2022.05-py39",
   "language": "python",
   "name": "conda-env-anaconda-2022.05-py39-py"
  },
  "language_info": {
   "codemirror_mode": {
    "name": "ipython",
    "version": 3
   },
   "file_extension": ".py",
   "mimetype": "text/x-python",
   "name": "python",
   "nbconvert_exporter": "python",
   "pygments_lexer": "ipython3",
   "version": "3.9.12"
  }
 },
 "nbformat": 4,
 "nbformat_minor": 5
}
