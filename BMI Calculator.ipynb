{
 "cells": [
  {
   "cell_type": "markdown",
   "id": "683cc0fb-fe3b-4b42-967f-b917b6035f7f",
   "metadata": {},
   "source": [
    "#BMI Calculator"
   ]
  },
  {
   "cell_type": "code",
   "execution_count": null,
   "id": "822bcd3a-f1db-4f10-af4a-ec1ffad5d345",
   "metadata": {},
   "outputs": [],
   "source": [
    "#BMI = (weight in pounds x 703) / (height in inches x height in inches)"
   ]
  },
  {
   "cell_type": "code",
   "execution_count": 23,
   "id": "43f8c720-cd99-456b-92f9-cf8ca8d9139d",
   "metadata": {},
   "outputs": [
    {
     "name": "stdin",
     "output_type": "stream",
     "text": [
      "Enter Name:  Trisha\n",
      "Enter Weight In lbs:  196\n",
      "Enter Height In inches:  62\n"
     ]
    },
    {
     "name": "stdout",
     "output_type": "stream",
     "text": [
      "35.84495317377731\n",
      "Trisha is Severely Obese.\n"
     ]
    }
   ],
   "source": [
    "name = input(\"Enter Name: \")\n",
    "\n",
    "weight = int(input(\"Enter Weight In lbs: \"))\n",
    "\n",
    "height = int(input(\"Enter Height In inches: \"))\n",
    "\n",
    "BMI = (weight * 703) / (height * height)\n",
    "\n",
    "print(BMI)\n",
    "\n",
    "if BMI > 0:\n",
    "    if(BMI<18.5):\n",
    "        print(name +' is Underweight.')\n",
    "    elif (BMI<=24.9):\n",
    "        print(name +' is Normal Weight.')\n",
    "    elif (BMI<29.9):\n",
    "        print(name +' is Overweight.')\n",
    "    elif (BMI<34.9):\n",
    "        print(name +' is Obese.')\n",
    "    elif (BMI<39.9):\n",
    "        print(name +' is Severely Obese.')\n",
    "else:\n",
    "    print(name +' is Morbidly Obese.')"
   ]
  },
  {
   "cell_type": "code",
   "execution_count": null,
   "id": "084d3980-1296-4465-9f73-939ac574bfcc",
   "metadata": {},
   "outputs": [],
   "source": [
    "Under 18.5 Underweight Minimal\n",
    "18.5 - 24.9 Normal Weight Minimal\n",
    "25 - 29.9 Overweight Increased\n",
    "30 - 34.9 Obese High\n",
    "35 - 39.9 Severely Obese Very High\n",
    "40 and over Morbidly Obese Extremely High"
   ]
  }
 ],
 "metadata": {
  "kernelspec": {
   "display_name": "anaconda-2022.05-py39",
   "language": "python",
   "name": "conda-env-anaconda-2022.05-py39-py"
  },
  "language_info": {
   "codemirror_mode": {
    "name": "ipython",
    "version": 3
   },
   "file_extension": ".py",
   "mimetype": "text/x-python",
   "name": "python",
   "nbconvert_exporter": "python",
   "pygments_lexer": "ipython3",
   "version": "3.9.12"
  }
 },
 "nbformat": 4,
 "nbformat_minor": 5
}
